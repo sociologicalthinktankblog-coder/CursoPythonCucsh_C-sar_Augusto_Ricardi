{
  "nbformat": 4,
  "nbformat_minor": 0,
  "metadata": {
    "colab": {
      "provenance": [],
      "authorship_tag": "ABX9TyOyGh39UZ1Xn5KI0iesbagM",
      "include_colab_link": true
    },
    "kernelspec": {
      "name": "python3",
      "display_name": "Python 3"
    },
    "language_info": {
      "name": "python"
    }
  },
  "cells": [
    {
      "cell_type": "markdown",
      "metadata": {
        "id": "view-in-github",
        "colab_type": "text"
      },
      "source": [
        "<a href=\"https://colab.research.google.com/github/sociologicalthinktankblog-coder/CursoPythonCucsh_C-sar_Augusto_Ricardi/blob/main/Unidad_1/Actividad_2_clase.ipynb\" target=\"_parent\"><img src=\"https://colab.research.google.com/assets/colab-badge.svg\" alt=\"Open In Colab\"/></a>"
      ]
    },
    {
      "cell_type": "code",
      "execution_count": 1,
      "metadata": {
        "colab": {
          "base_uri": "https://localhost:8080/"
        },
        "id": "QbfFWopeCCzO",
        "outputId": "07850c74-2b67-4818-d7e5-15b69aa5f255"
      },
      "outputs": [
        {
          "output_type": "stream",
          "name": "stdout",
          "text": [
            "Mounted at /content/drive\n"
          ]
        }
      ],
      "source": [
        "from google.colab import drive\n",
        "drive.mount('/content/drive')"
      ]
    },
    {
      "cell_type": "code",
      "source": [
        "nombre_archivo = \"Mi_ejemplo_de_texto.txt\"\n",
        "ruta = \"/content/drive/MyDrive/Colab Data/\"\n",
        "file ='Mi_ejemplo_de_texto.txt'\n",
        "\n",
        "with open(ruta + file, 'r') as f:\n",
        "    contenido = f.read()\n",
        "    print(contenido)"
      ],
      "metadata": {
        "colab": {
          "base_uri": "https://localhost:8080/"
        },
        "id": "0hndnbSoHFBd",
        "outputId": "8a20929f-ebda-4eb0-efa4-2fa5491653a4"
      },
      "execution_count": 3,
      "outputs": [
        {
          "output_type": "stream",
          "name": "stdout",
          "text": [
            "Curso análisis y visualización de datos con Python en la nube. \n"
          ]
        }
      ]
    }
  ]
}