{
  "nbformat": 4,
  "nbformat_minor": 0,
  "metadata": {
    "colab": {
      "provenance": [],
      "authorship_tag": "ABX9TyOCcnT3wwMAtqhcV/CpSqP8",
      "include_colab_link": true
    },
    "kernelspec": {
      "name": "python3",
      "display_name": "Python 3"
    },
    "language_info": {
      "name": "python"
    }
  },
  "cells": [
    {
      "cell_type": "markdown",
      "metadata": {
        "id": "view-in-github",
        "colab_type": "text"
      },
      "source": [
        "<a href=\"https://colab.research.google.com/github/sociologicalthinktankblog-coder/CursoPythonCucsh_C-sar_Augusto_Ricardi/blob/main/Proyecto_ChatBot.ipynb\" target=\"_parent\"><img src=\"https://colab.research.google.com/assets/colab-badge.svg\" alt=\"Open In Colab\"/></a>"
      ]
    },
    {
      "cell_type": "markdown",
      "source": [
        "_Activdad 2.1 Proyecto ChatBot_\n",
        "\n",
        "*_11 de octubre de 2025_*\n",
        "\n",
        "Análisis y visualización de datos con Python en la nube\n",
        "\n",
        "**César Augusto Ricardi Morgavi**\n",
        "\n",
        "Campus: CUCEA"
      ],
      "metadata": {
        "id": "V1MfAUTwJgb6"
      }
    },
    {
      "cell_type": "code",
      "source": [
        "print(\"¡Hola! Soy un ChatBot\")\n",
        "print(\"Me crearon en 2025 como parte de un ejercicio.\")\n",
        "nombre_usuario = input(\"¿Y tu nombre cual es?\")\n",
        "saludo = \"¡Me encanta tu nombre, \" + nombre_usuario + \"!\"\n",
        "print(saludo)"
      ],
      "metadata": {
        "id": "8YVRDlbMIMwD",
        "colab": {
          "base_uri": "https://localhost:8080/"
        },
        "outputId": "75d06908-c157-4dc5-aeba-8d1b36c05640"
      },
      "execution_count": 1,
      "outputs": [
        {
          "output_type": "stream",
          "name": "stdout",
          "text": [
            "¡Hola! Soy un ChatBot\n",
            "Me crearon en 2025 como parte de un ejercicio.\n",
            "¿Y tu nombre cual es?César Augusto Ricardi\n",
            "¡Me encanta tu nombre, César Augusto Ricardi!\n"
          ]
        }
      ]
    },
    {
      "cell_type": "code",
      "source": [],
      "metadata": {
        "id": "3Z9pjYyQ0Vi5"
      },
      "execution_count": null,
      "outputs": []
    },
    {
      "cell_type": "code",
      "metadata": {
        "colab": {
          "base_uri": "https://localhost:8080/"
        },
        "id": "df789e17",
        "outputId": "d71c1470-8c49-4d8e-d392-637aa65f4802"
      },
      "source": [
        "print(\"Imagina un personaje humano. Debes conocer su edad. Me gustaría adivinar la edad de este personaje. Para ello, te voy a hacer tres preguntas.\")\n",
        "\n",
        "residuo1_str = input(\"¿Cuál es el residuo de la división de su edad entre 3?\")\n",
        "residuo1 = int(residuo1_str)\n",
        "\n",
        "residuo2_str = input(\"¿Cuál es el residuo de la división de su edad entre 5?\")\n",
        "residudo2 = int(residuo2_str)\n",
        "\n",
        "residuo3_str = input(\"¿Cuál es el residuo de la división de su edad entre 7?\")\n",
        "residuo3 = int(residuo3_str)\n",
        "\n",
        "edad_adivinada = (residuo1 * 70 + residudo2 * 21 + residuo3 * 15) % 105\n",
        "\n",
        "print(f\"Creo que su edad es {edad_adivinada}. ¡Espero no haberme equivocado!\")"
      ],
      "execution_count": 2,
      "outputs": [
        {
          "output_type": "stream",
          "name": "stdout",
          "text": [
            "Imagina un personaje humano. Debes conocer su edad. Me gustaría adivinar la edad de este personaje. Para ello, te voy a hacer tres preguntas.\n",
            "¿Cuál es el residuo de la división de su edad entre 3?0\n",
            "¿Cuál es el residuo de la división de su edad entre 5?0\n",
            "¿Cuál es el residuo de la división de su edad entre 7?3\n",
            "Creo que su edad es 45. ¡Espero no haberme equivocado!\n"
          ]
        }
      ]
    },
    {
      "cell_type": "code",
      "source": [],
      "metadata": {
        "id": "qd5hoCPh7FqA"
      },
      "execution_count": null,
      "outputs": []
    },
    {
      "cell_type": "code",
      "metadata": {
        "colab": {
          "base_uri": "https://localhost:8080/"
        },
        "id": "388fc56f",
        "outputId": "afb5faaa-13bf-4a1e-92bf-056bd106fab6"
      },
      "source": [
        "def hacer_pregunta(nombre_persona):\n",
        "  \"\"\"Implementa una pregunta de opción múltiple y verifica la respuesta.\"\"\"\n",
        "\n",
        "  print(\"\\n¿Cuál de las siguientes afirmaciones es correcta sobre la ciudad de Guadalajara?\")\n",
        "  print(\"Para responder la pregunta escribe el número de una de las siguientes preguntas:\")\n",
        "  print(\"1. Es la capital del estado de Guanajuato.\")\n",
        "  print(\"2. Es conocida como la \\\"Perla Tapatía\\\"\")\n",
        "  print(\"3. Fue fundada en 1921\")\n",
        "  print(\"4. Esta ubicada en la península de Yucatán.\")\n",
        "\n",
        "  respuesta_correcta = 2\n",
        "  intentos = 0\n",
        "  max_intentos = 3 # Puedes ajustar el número de intentos permitidos\n",
        "\n",
        "  while intentos < max_intentos:\n",
        "    try:\n",
        "      respuesta_usuario_str = input(\"Tu respuesta: \")\n",
        "      respuesta_usuario = int(respuesta_usuario_str)\n",
        "\n",
        "      if respuesta_usuario == respuesta_correcta:\n",
        "        print(f\"¡Muy bien {nombre_persona}! Su respuesta fue correcta.\")\n",
        "        return True # La respuesta fue correcta, salimos de la función\n",
        "      else:\n",
        "        intentos += 1\n",
        "        if intentos < max_intentos:\n",
        "          print(\"Respuesta incorrecta, intente otra vez.\")\n",
        "        else:\n",
        "          print(f\"Respuesta incorrecta. Has agotado tus intentos. La respuesta correcta era la opción {respuesta_correcta}.\")\n",
        "          return False # Agotó los intentos\n",
        "\n",
        "    except ValueError:\n",
        "      intentos += 1\n",
        "      if intentos < max_intentos:\n",
        "        print(\"Entrada no válida. Por favor, ingresa el número de la opción.\")\n",
        "      else:\n",
        "         print(f\"Entrada no válida. Has agotado tus intentos. La respuesta correcta era la opción {respuesta_correcta}.\")\n",
        "         return False # Agotó los intentos\n",
        "\n",
        "# Llama a la función hacer_pregunta para que se ejecute.\n",
        "# Reemplaza \"Nombre del Usuario\" con la variable que contiene el nombre de la persona en tu código.\n",
        "hacer_pregunta(\"Nombre del Usuario\")"
      ],
      "execution_count": 6,
      "outputs": [
        {
          "output_type": "stream",
          "name": "stdout",
          "text": [
            "\n",
            "¿Cuál de las siguientes afirmaciones es correcta sobre la ciudad de Guadalajara?\n",
            "Para responder la pregunta escribe el número de una de las siguientes preguntas:\n",
            "1. Es la capital del estado de Guanajuato.\n",
            "2. Es conocida como la \"Perla Tapatía\"\n",
            "3. Fue fundada en 1921\n",
            "4. Esta ubicada en la península de Yucatán.\n",
            "Tu respuesta: 2\n",
            "¡Muy bien Nombre del Usuario! Su respuesta fue correcta.\n"
          ]
        },
        {
          "output_type": "execute_result",
          "data": {
            "text/plain": [
              "True"
            ]
          },
          "metadata": {},
          "execution_count": 6
        }
      ]
    },
    {
      "cell_type": "code",
      "source": [],
      "metadata": {
        "id": "h25OfAir9Sho"
      },
      "execution_count": null,
      "outputs": []
    },
    {
      "cell_type": "code",
      "metadata": {
        "colab": {
          "base_uri": "https://localhost:8080/"
        },
        "id": "a136a801",
        "outputId": "40fee2b3-536f-4daa-f2c5-dc8a7382eaf2"
      },
      "source": [
        "print(f\"Hasta la próxima, {nombre_usuario}!\")"
      ],
      "execution_count": 12,
      "outputs": [
        {
          "output_type": "stream",
          "name": "stdout",
          "text": [
            "Hasta la próxima, César Augusto Ricardi!\n"
          ]
        }
      ]
    }
  ]
}