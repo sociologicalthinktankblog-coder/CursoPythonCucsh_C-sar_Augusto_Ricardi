{
  "nbformat": 4,
  "nbformat_minor": 0,
  "metadata": {
    "colab": {
      "provenance": [],
      "authorship_tag": "ABX9TyMtHTw/1fKrVIz1AVWrC+DA",
      "include_colab_link": true
    },
    "kernelspec": {
      "name": "python3",
      "display_name": "Python 3"
    },
    "language_info": {
      "name": "python"
    }
  },
  "cells": [
    {
      "cell_type": "markdown",
      "metadata": {
        "id": "view-in-github",
        "colab_type": "text"
      },
      "source": [
        "<a href=\"https://colab.research.google.com/github/sociologicalthinktankblog-coder/CursoPythonCucsh_C-sar_Augusto_Ricardi/blob/main/Actividad_1.ipynb\" target=\"_parent\"><img src=\"https://colab.research.google.com/assets/colab-badge.svg\" alt=\"Open In Colab\"/></a>"
      ]
    },
    {
      "cell_type": "code",
      "execution_count": null,
      "metadata": {
        "id": "DDDyqkPFEIy8"
      },
      "outputs": [],
      "source": []
    },
    {
      "cell_type": "code",
      "source": [],
      "metadata": {
        "id": "FVPaAK6uHJ4_"
      },
      "execution_count": null,
      "outputs": []
    },
    {
      "cell_type": "markdown",
      "source": [
        "#**Actividad 1.** #\n",
        "César Augusto"
      ],
      "metadata": {
        "id": "m4CR_bzxH56i"
      }
    },
    {
      "cell_type": "markdown",
      "source": [
        "_Activdad 1_\n",
        "\n",
        "*_10 de septiembre de 2025_*\n",
        "\n",
        "**César Augusto Ricardi Morgavi**\n",
        "\n",
        "Campus: CUCSH\n",
        "\n",
        "**_Fecha: 10 de septiembre de 2025_**"
      ],
      "metadata": {
        "id": "V1MfAUTwJgb6"
      }
    },
    {
      "cell_type": "code",
      "source": [
        "import datetime\n",
        "\n",
        "#(tiempo universal coordinado, UTC) y fecha\n",
        "now = datetime.datetime.now()\n",
        "print(f\"Fecha y hora (UTC): {now.strftime('%Y-%m-%d %H:%M:%S')}\")\n",
        "\n"
      ],
      "metadata": {
        "colab": {
          "base_uri": "https://localhost:8080/"
        },
        "id": "qrfkhlY3JwJg",
        "outputId": "986b6f55-adf4-42c4-ec1c-d0109c6a176c"
      },
      "execution_count": 2,
      "outputs": [
        {
          "output_type": "stream",
          "name": "stdout",
          "text": [
            "Fecha y hora (UTC): 2025-09-11 00:38:29\n"
          ]
        }
      ]
    },
    {
      "cell_type": "markdown",
      "source": [
        "¿Cuál es su opinión sobre el ptoencial de uso de Pytyon en su trabajao académico de investigación?"
      ],
      "metadata": {
        "id": "CTFc2USeRfXs"
      }
    },
    {
      "cell_type": "code",
      "source": [
        "import sys"
      ],
      "metadata": {
        "id": "_-oNCWwgRqCN"
      },
      "execution_count": 4,
      "outputs": []
    },
    {
      "cell_type": "code",
      "source": [
        "# Versión de Pyton\n",
        "print (f\"Versión de Pyton: {sys.version}\")"
      ],
      "metadata": {
        "colab": {
          "base_uri": "https://localhost:8080/"
        },
        "id": "ChIBNpaOR2iD",
        "outputId": "ef950739-7865-42da-b53b-b3db79097747"
      },
      "execution_count": 6,
      "outputs": [
        {
          "output_type": "stream",
          "name": "stdout",
          "text": [
            "Versión de Pyton: 3.12.11 (main, Jun  4 2025, 08:56:18) [GCC 11.4.0]\n"
          ]
        }
      ]
    },
    {
      "cell_type": "code",
      "source": [
        "import platform"
      ],
      "metadata": {
        "id": "7nrrttuaSOP1"
      },
      "execution_count": 7,
      "outputs": []
    },
    {
      "cell_type": "code",
      "source": [
        "print(\"\\nParámetros del entorno de ejecución:\")\n",
        "print(f\"Sistema operativo: {platform.system()}\")\n",
        "print(f\"Nombre del nodo: {platform.node()}\")\n",
        "print(f\"Arquietectura: {platform.architecture()}\")\n",
        "print(f\"Procesador: {platform.processor()}\")"
      ],
      "metadata": {
        "colab": {
          "base_uri": "https://localhost:8080/"
        },
        "id": "aofFOSvXSRZL",
        "outputId": "14fe8ff4-d5ed-4271-9070-1261bf8c006a"
      },
      "execution_count": 11,
      "outputs": [
        {
          "output_type": "stream",
          "name": "stdout",
          "text": [
            "\n",
            "Parámetros del entorno de ejecución:\n",
            "Sistema operativo: Linux\n",
            "Nombre del nodo: 9f1b3ad7fa02\n",
            "Arquietectura: ('64bit', 'ELF')\n",
            "Procesador: x86_64\n"
          ]
        }
      ]
    },
    {
      "cell_type": "code",
      "source": [],
      "metadata": {
        "id": "1lcu8RC-VWZk"
      },
      "execution_count": null,
      "outputs": []
    }
  ]
}