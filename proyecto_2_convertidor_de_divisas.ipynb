{
  "nbformat": 4,
  "nbformat_minor": 0,
  "metadata": {
    "colab": {
      "provenance": [],
      "authorship_tag": "ABX9TyMbM+RpwKsTsfa2EaoO/g5K",
      "include_colab_link": true
    },
    "kernelspec": {
      "name": "python3",
      "display_name": "Python 3"
    },
    "language_info": {
      "name": "python"
    }
  },
  "cells": [
    {
      "cell_type": "markdown",
      "metadata": {
        "id": "view-in-github",
        "colab_type": "text"
      },
      "source": [
        "<a href=\"https://colab.research.google.com/github/sociologicalthinktankblog-coder/CursoPythonCucsh_C-sar_Augusto_Ricardi/blob/main/proyecto_2_convertidor_de_divisas.ipynb\" target=\"_parent\"><img src=\"https://colab.research.google.com/assets/colab-badge.svg\" alt=\"Open In Colab\"/></a>"
      ]
    },
    {
      "cell_type": "code",
      "execution_count": null,
      "metadata": {
        "id": "1bBb0XsEzb4h"
      },
      "outputs": [],
      "source": [
        "import json\n",
        "import requests\n",
        "\n",
        "def currency_search(cur):\n",
        "    r = requests.get(\"http://www.floatrates.com/daily/{}.json\".format(cur))\n",
        "    return r.text\n",
        "\n",
        "exchange_file = currency_search(\"mxn\")\n",
        "exchange_dict = json.loads(exchange_file)"
      ]
    },
    {
      "cell_type": "code",
      "metadata": {
        "colab": {
          "base_uri": "https://localhost:8080/"
        },
        "id": "6f00c151",
        "outputId": "64399255-42a3-4abd-c094-05635f8d43c4"
      },
      "source": [
        "print(\"¡Bienvenido al convertidor de divisas!\")\n",
        "print(\"Introduce el código de tres letras de la divisa inicial (por ejemplo, MXN), código de divisa de destino (por ejemplo, USD) y la cantidad que pretendes convertir.\")\n",
        "print(\"El resultado será la cantidad en la divisa destino.\")\n",
        "print(\"Si quieres salir del programa, solo pulsa la tecla Enter al momento de especificar la divisa.\")\n",
        "print(\"¡Suerte en tus conversiones\")\n",
        "while True:\n",
        "    source_currency = input(\"Introduce el código de la divisa de origen (por ejemplo, USD, MXN): \").lower()\n",
        "\n",
        "    if source_currency == \"\":\n",
        "        break\n",
        "\n",
        "    try:\n",
        "        exchange_file = currency_search(source_currency)\n",
        "        exchange_dict = json.loads(exchange_file)\n",
        "\n",
        "        target_currency = input(\"Introduce el código de la divisa de destino: \").lower()\n",
        "\n",
        "        if target_currency in exchange_dict:\n",
        "            while True:\n",
        "                amount_str = input(f\"Divisa se encontró en la base de datos, podemos trabajar. Introduce la cantidad en {source_currency.upper()} a convertir: \")\n",
        "                try:\n",
        "                    amount = float(amount_str)\n",
        "                    converted_amount = amount * exchange_dict[target_currency]['rate']\n",
        "                    print(f\"{amount:.2f} {source_currency.upper()} es igual a {converted_amount:.2f} {target_currency.upper()}\")\n",
        "                    break\n",
        "                except ValueError:\n",
        "                    print(\"Entrada no válida. Por favor, introduce un valor numérico para la cantidad.\")\n",
        "        else:\n",
        "            print(f\"La divisa de destino {target_currency.upper()} no se encontró en los datos de cambio para {source_currency.upper()}.\")\n",
        "\n",
        "    except requests.exceptions.RequestException:\n",
        "        print(f\"No se pudieron obtener los datos de cambio para la divisa de origen {source_currency.upper()}. Por favor, verifica el código de la divisa.\")\n",
        "    except json.JSONDecodeError:\n",
        "        print(f\"Error al procesar los datos de cambio para la divisa de origen {source_currency.upper()}.\")\n",
        "\n",
        "print(\"¡Adios!\")"
      ],
      "execution_count": null,
      "outputs": [
        {
          "output_type": "stream",
          "name": "stdout",
          "text": [
            "¡Bienvenido al convertidor de divisas!\n",
            "Introduce el código de tres letras de la divisa inicial (por ejemplo, MXN), código de divisa de destino (por ejemplo, USD) y la cantidad que pretendes convertir.\n",
            "El resultado será la cantidad en la divisa destino.\n",
            "Si quieres salir del programa, solo pulsa la tecla Enter al momento de especificar la divisa.\n",
            "¡Suerte en tus conversiones\n",
            "Introduce el código de la divisa de origen (por ejemplo, USD, MXN): UYU\n",
            "Introduce el código de la divisa de destino: USD\n",
            "Divisa se encontró en la base de datos, podemos trabajar. Introduce la cantidad en UYU a convertir: 300\n",
            "300.00 UYU es igual a 7.49 USD\n",
            "Introduce el código de la divisa de origen (por ejemplo, USD, MXN): MXN\n",
            "Introduce el código de la divisa de destino: FERE\n",
            "La divisa de destino FERE no se encontró en los datos de cambio para MXN.\n",
            "Introduce el código de la divisa de origen (por ejemplo, USD, MXN): MXN\n",
            "Introduce el código de la divisa de destino: USD\n",
            "Divisa se encontró en la base de datos, podemos trabajar. Introduce la cantidad en MXN a convertir: 300\n",
            "300.00 MXN es igual a 16.27 USD\n",
            "Introduce el código de la divisa de origen (por ejemplo, USD, MXN): \n",
            "¡Adios!\n"
          ]
        }
      ]
    }
  ]
}